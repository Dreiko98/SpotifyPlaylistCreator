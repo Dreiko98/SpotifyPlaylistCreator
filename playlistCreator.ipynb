{
 "cells": [
  {
   "cell_type": "code",
   "execution_count": 41,
   "metadata": {},
   "outputs": [],
   "source": [
    "import spotipy\n",
    "from spotipy.oauth2 import SpotifyOAuth\n",
    "from playlistCreatorMetods import *"
   ]
  },
  {
   "cell_type": "code",
   "execution_count": 42,
   "metadata": {},
   "outputs": [],
   "source": [
    "# Coloca aquí tus credenciales\n",
    "client_id = 'cc2ece12ff0840e68932c542a3870c46'\n",
    "client_secret = '85fe48dc89d2469aa8a39ca57838e7e6'\n",
    "redirect_uri = 'http://localhost:8888/callback'\n",
    "\n",
    "# Configuración de autenticación de usuario\n",
    "sp = spotipy.Spotify(auth_manager=SpotifyOAuth(client_id=client_id, client_secret=client_secret, redirect_uri=redirect_uri, scope='playlist-modify-private'))"
   ]
  },
  {
   "cell_type": "code",
   "execution_count": 43,
   "metadata": {},
   "outputs": [
    {
     "name": "stdout",
     "output_type": "stream",
     "text": [
      "Bienvenido germanmallo44!\n"
     ]
    }
   ],
   "source": [
    "# Nombre de usuario de Spotify\n",
    "username = str(input('Ingresa tu nombre de usuario de Spotify: '))\n",
    "print(f'Bienvenido {username}!')"
   ]
  },
  {
   "cell_type": "code",
   "execution_count": 44,
   "metadata": {},
   "outputs": [
    {
     "name": "stdout",
     "output_type": "stream",
     "text": [
      "La playlist original es: para jugar a fifa\n"
     ]
    }
   ],
   "source": [
    "# recibir playlist original\n",
    "url_playlist = str(input('Ingresa la URL de la playlist original: '))\n",
    "id_playlist = obtener_id_playlist(url_playlist)\n",
    "playlistOriginal = sp.playlist_tracks(id_playlist)\n",
    "playlist_info = sp.playlist(id_playlist)\n",
    "print(f'La playlist original es: {playlist_info[\"name\"]}')"
   ]
  },
  {
   "cell_type": "code",
   "execution_count": 45,
   "metadata": {},
   "outputs": [
    {
     "data": {
      "text/plain": [
       "\"for item in playlistOriginal['items']:\\n    print(item['track']['name'])\""
      ]
     },
     "execution_count": 45,
     "metadata": {},
     "output_type": "execute_result"
    }
   ],
   "source": [
    "\"\"\"for item in playlistOriginal['items']:\n",
    "    print(item['track']['name'])\"\"\""
   ]
  },
  {
   "cell_type": "code",
   "execution_count": 46,
   "metadata": {},
   "outputs": [
    {
     "data": {
      "text/plain": [
       "'for item in playlistOriginal[\\'items\\']:\\n    artista = item[\\'track\\'][\\'artists\\'][0][\\'id\\']\\n    info_artista = sp.artist(artista)\\n    generosArtista = info_artista[\\'genres\\']\\n    if generosArtista == []:\\n        generosArtista = [\\'otros\\']\\n    print(f\\'Artista: {info_artista[\"name\"]} - Géneros: {generosArtista}\\')'"
      ]
     },
     "execution_count": 46,
     "metadata": {},
     "output_type": "execute_result"
    }
   ],
   "source": [
    "\"\"\"for item in playlistOriginal['items']:\n",
    "    artista = item['track']['artists'][0]['id']\n",
    "    info_artista = sp.artist(artista)\n",
    "    generosArtista = info_artista['genres']\n",
    "    if generosArtista == []:\n",
    "        generosArtista = ['otros']\n",
    "    print(f'Artista: {info_artista[\"name\"]} - Géneros: {generosArtista}')\"\"\""
   ]
  },
  {
   "cell_type": "code",
   "execution_count": 47,
   "metadata": {},
   "outputs": [
    {
     "name": "stdout",
     "output_type": "stream",
     "text": [
      "Ingresa los parámetros para la playlist nueva: \n"
     ]
    }
   ],
   "source": [
    "# elegir parámetros para la playlist\n",
    "print('Ingresa los parámetros para la playlist nueva: ')\n",
    "parametros = {}"
   ]
  },
  {
   "cell_type": "code",
   "execution_count": 48,
   "metadata": {},
   "outputs": [
    {
     "name": "stdout",
     "output_type": "stream",
     "text": [
      "Estos son los álbumes de la playlist para jugar a fifa:\n",
      "1) PLAYA SATURNO\n",
      "2) nadie sabe lo que va a pasar mañana\n",
      "3) MOR, No Le Temas a La Oscuridad\n",
      "4) MOR, No Le Temas a La Oscuridad\n",
      "5) ESTRELLA\n",
      "6) El Bloke Hills\n",
      "7) good kid, m.A.A.d city\n",
      "Muy bien, tus albumes elegidos son: ['ESTRELLA', 'PLAYA SATURNO']\n"
     ]
    }
   ],
   "source": [
    "#PARAMETRO ALBUM\n",
    "albumes = parametroAlbum(playlistOriginal, playlist_info, sp)\n",
    "parametros['albumes'] = albumes\n",
    "albumes_nombre = []\n",
    "if type(albumes) == list:\n",
    "    for album in albumes:\n",
    "        info_album = sp.album(album)\n",
    "        albumes_nombre.append(info_album['name'])\n",
    "    print(f'Muy bien, tus albumes elegidos son: {albumes_nombre}')\n",
    "else:\n",
    "    print('OK, sin albumes')"
   ]
  },
  {
   "cell_type": "code",
   "execution_count": 49,
   "metadata": {},
   "outputs": [
    {
     "name": "stdout",
     "output_type": "stream",
     "text": [
      "OK, sin artistas\n"
     ]
    }
   ],
   "source": [
    "#PARÁMETRO ARTISTA\n",
    "artistas = parametroArtista(playlistOriginal, playlist_info, sp)\n",
    "parametros['artistas'] = artistas\n",
    "artistas_nombre = []\n",
    "if type(artistas) == list: # and artistas para que no se ejecute si artistas = []\n",
    "    for artista in artistas:\n",
    "        info_artista = sp.artist(artista)\n",
    "        artistas_nombre.append(info_artista['name'])\n",
    "    print(f'Muy bien, tus artistas elegidos son: {artistas_nombre}')\n",
    "else:\n",
    "    print('OK, sin artistas')"
   ]
  },
  {
   "cell_type": "code",
   "execution_count": 50,
   "metadata": {},
   "outputs": [
    {
     "name": "stdout",
     "output_type": "stream",
     "text": [
      "Muy bien, tus géneros elegidos son: None\n"
     ]
    }
   ],
   "source": [
    "#PARAMETRO GENERO\n",
    "generos = parametroGenero(playlistOriginal, playlist_info, sp)\n",
    "parametros['generos'] = generos\n",
    "print(f'Muy bien, tus géneros elegidos son: {generos}')"
   ]
  },
  {
   "cell_type": "code",
   "execution_count": 51,
   "metadata": {},
   "outputs": [
    {
     "name": "stdout",
     "output_type": "stream",
     "text": [
      "Muy bien, tus años elegidos son: (None, None)\n"
     ]
    }
   ],
   "source": [
    "#PARAMETRO AÑO\n",
    "años = parametroAnio()\n",
    "parametros['años'] = años\n",
    "print(f'Muy bien, tus años elegidos son: {años}')"
   ]
  },
  {
   "cell_type": "code",
   "execution_count": 52,
   "metadata": {},
   "outputs": [
    {
     "data": {
      "text/plain": [
       "\"#PARAMETRO DURACION PLAYLIST\\nduracionPlaylist = parametroDuracion()\\nparametros['duracionPlaylist'] = duracionPlaylist\\nprint(f'Muy bien, la duración de tu playlist será de: {duracionPlaylist}')\""
      ]
     },
     "execution_count": 52,
     "metadata": {},
     "output_type": "execute_result"
    }
   ],
   "source": [
    "\"\"\"#PARAMETRO DURACION PLAYLIST\n",
    "duracionPlaylist = parametroDuracion()\n",
    "parametros['duracionPlaylist'] = duracionPlaylist\n",
    "print(f'Muy bien, la duración de tu playlist será de: {duracionPlaylist}')\"\"\""
   ]
  },
  {
   "cell_type": "code",
   "execution_count": 53,
   "metadata": {},
   "outputs": [
    {
     "name": "stdout",
     "output_type": "stream",
     "text": [
      "Muy bien, la duración máxima de tus canciones será de: None\n"
     ]
    }
   ],
   "source": [
    "#PARAMETRO DURACION MÁXIMA CANCIONES\n",
    "duracion_canciones_max = parametroDuracionCancionesMax()\n",
    "parametros['duracion_canciones_max'] = duracion_canciones_max\n",
    "print(f'Muy bien, la duración máxima de tus canciones será de: {duracion_canciones_max}')"
   ]
  },
  {
   "cell_type": "code",
   "execution_count": 54,
   "metadata": {},
   "outputs": [
    {
     "name": "stdout",
     "output_type": "stream",
     "text": [
      "Muy bien, la duración mínima de tus canciones será de: None\n"
     ]
    }
   ],
   "source": [
    "#PARAMETRO DURACION MÍNIMA CANCIONES\n",
    "duracion_canciones_min = parametroDuracionCancionesMin()\n",
    "parametros['duracion_canciones_min'] = duracion_canciones_min\n",
    "print(f'Muy bien, la duración mínima de tus canciones será de: {duracion_canciones_min}')"
   ]
  },
  {
   "cell_type": "code",
   "execution_count": 55,
   "metadata": {},
   "outputs": [
    {
     "name": "stdout",
     "output_type": "stream",
     "text": [
      "Muy bien, la popularidad de tus canciones será de: None\n"
     ]
    }
   ],
   "source": [
    "#PARAMETRO POPULARIDAD\n",
    "popularidad = parametroPopularidad()\n",
    "parametros['popularidad'] = popularidad\n",
    "print(f'Muy bien, la popularidad de tus canciones será de: {popularidad}')"
   ]
  },
  {
   "cell_type": "code",
   "execution_count": 56,
   "metadata": {},
   "outputs": [
    {
     "data": {
      "text/plain": [
       "\"# PARAMETROS CANCIONES MINIMAS\\ncancionesMinimas = numero_canciones_min()\\nparametros['cancionesMinimas'] = cancionesMinimas\\nprint(f'Muy bien, el número mínimo de canciones será de: {cancionesMinimas}')\""
      ]
     },
     "execution_count": 56,
     "metadata": {},
     "output_type": "execute_result"
    }
   ],
   "source": [
    "\"\"\"# PARAMETROS CANCIONES MINIMAS\n",
    "cancionesMinimas = numero_canciones_min()\n",
    "parametros['cancionesMinimas'] = cancionesMinimas\n",
    "print(f'Muy bien, el número mínimo de canciones será de: {cancionesMinimas}')\"\"\""
   ]
  },
  {
   "cell_type": "code",
   "execution_count": 57,
   "metadata": {},
   "outputs": [
    {
     "data": {
      "text/plain": [
       "\"# PARAMETROS COVER\\ncover = coverPlaylist()\\nparametros['cover'] = cover\\nprint(f'Muy bien, el cover de tu playlist será: {cover}')\""
      ]
     },
     "execution_count": 57,
     "metadata": {},
     "output_type": "execute_result"
    }
   ],
   "source": [
    "# PARAMETROS COVER\n",
    "cover = coverPlaylist()\n",
    "parametros['cover'] = cover\n",
    "print(f'Muy bien, el cover de tu playlist será: {cover}')"
   ]
  },
  {
   "cell_type": "code",
   "execution_count": 58,
   "metadata": {},
   "outputs": [
    {
     "name": "stdout",
     "output_type": "stream",
     "text": [
      "Muy bien, los parámetros universales de tu playlist serán: ('prueba 3', 'esta ni de coña', False)\n"
     ]
    }
   ],
   "source": [
    "# PARAMETROS DE LA PLAYIST UNIVERSALES\n",
    "parametrosUniversalesTuple = parametrosUniversales()\n",
    "parametros['parametrosUniversales'] = parametrosUniversalesTuple\n",
    "print(f'Muy bien, los parámetros universales de tu playlist serán: {parametrosUniversalesTuple}')"
   ]
  },
  {
   "cell_type": "code",
   "execution_count": 59,
   "metadata": {},
   "outputs": [
    {
     "name": "stdout",
     "output_type": "stream",
     "text": [
      "spotify:track:110wwp2SRousmXjvx8zIoI\n",
      "spotify:track:39L3LdlHS3gqB62HPWaJRg\n",
      "spotify:track:4SW9gHnW8NfKOdqmh0ij45\n",
      "spotify:track:3DeZc9cOc1DM8YNoJV8lAv\n",
      "spotify:track:3DBtvrhv3SAgK7s6zBGgbe\n",
      "spotify:track:2LWM5Ft0TdX24GeSq1u6PV\n",
      "spotify:track:2iIBpwP4FyQ95xgVail3yr\n",
      "spotify:track:0OqoRBKlvRZarXZqE7AH7z\n",
      "spotify:track:1Hs1uUl8o2VtDp1DABFq0O\n",
      "spotify:track:2VOXLA9TzOAVCjDi7RY5DV\n",
      "spotify:track:3nNmRE0DxHC6ZaKkrpUumS\n",
      "spotify:track:4Jc7252S1P99DjQ1lNGEOc\n",
      "spotify:track:5ixdmTpCmH5diBA1j154wN\n",
      "spotify:track:7iQXYTyuG13aoeHxGG28Nh\n",
      "spotify:track:7ucEkWU0SVy0XFdfXESgfY\n",
      "spotify:track:4qSEvFGCpde73gqIuq3sho\n",
      "spotify:track:1uFAI2C6r3YBQmXCAPGzZv\n",
      "spotify:track:6uL89TPiBHaiIEhqK4sohb\n",
      "spotify:track:1C7lXfx4Y5maVl4AgUVlHA\n",
      "spotify:track:4MjDJD8cW7iVeWInc2Bdyj\n",
      "spotify:track:3KHjXNQDEZ0Hb2hzGdxcx7\n"
     ]
    }
   ],
   "source": [
    "for i,item in enumerate(playlistOriginal['items']):\n",
    "    print(item['track']['uri'])"
   ]
  },
  {
   "cell_type": "code",
   "execution_count": 60,
   "metadata": {},
   "outputs": [
    {
     "name": "stderr",
     "output_type": "stream",
     "text": [
      "HTTP Error for POST to https://api.spotify.com/v1/playlists/0xCbdQ7DQr5U7yZ9w8Xowa/tracks with Params: {'position': None} returned 400 due to Error parsing JSON.\n"
     ]
    },
    {
     "ename": "SpotifyException",
     "evalue": "http status: 400, code:-1 - https://api.spotify.com/v1/playlists/0xCbdQ7DQr5U7yZ9w8Xowa/tracks:\n Error parsing JSON., reason: None",
     "output_type": "error",
     "traceback": [
      "\u001b[1;31m---------------------------------------------------------------------------\u001b[0m",
      "\u001b[1;31mHTTPError\u001b[0m                                 Traceback (most recent call last)",
      "File \u001b[1;32m~\\AppData\\Local\\Packages\\PythonSoftwareFoundation.Python.3.10_qbz5n2kfra8p0\\LocalCache\\local-packages\\Python310\\site-packages\\spotipy\\client.py:271\u001b[0m, in \u001b[0;36mSpotify._internal_call\u001b[1;34m(self, method, url, payload, params)\u001b[0m\n\u001b[0;32m    266\u001b[0m response \u001b[39m=\u001b[39m \u001b[39mself\u001b[39m\u001b[39m.\u001b[39m_session\u001b[39m.\u001b[39mrequest(\n\u001b[0;32m    267\u001b[0m     method, url, headers\u001b[39m=\u001b[39mheaders, proxies\u001b[39m=\u001b[39m\u001b[39mself\u001b[39m\u001b[39m.\u001b[39mproxies,\n\u001b[0;32m    268\u001b[0m     timeout\u001b[39m=\u001b[39m\u001b[39mself\u001b[39m\u001b[39m.\u001b[39mrequests_timeout, \u001b[39m*\u001b[39m\u001b[39m*\u001b[39margs\n\u001b[0;32m    269\u001b[0m )\n\u001b[1;32m--> 271\u001b[0m response\u001b[39m.\u001b[39;49mraise_for_status()\n\u001b[0;32m    272\u001b[0m results \u001b[39m=\u001b[39m response\u001b[39m.\u001b[39mjson()\n",
      "File \u001b[1;32m~\\AppData\\Local\\Packages\\PythonSoftwareFoundation.Python.3.10_qbz5n2kfra8p0\\LocalCache\\local-packages\\Python310\\site-packages\\requests\\models.py:1021\u001b[0m, in \u001b[0;36mResponse.raise_for_status\u001b[1;34m(self)\u001b[0m\n\u001b[0;32m   1020\u001b[0m \u001b[39mif\u001b[39;00m http_error_msg:\n\u001b[1;32m-> 1021\u001b[0m     \u001b[39mraise\u001b[39;00m HTTPError(http_error_msg, response\u001b[39m=\u001b[39m\u001b[39mself\u001b[39m)\n",
      "\u001b[1;31mHTTPError\u001b[0m: 400 Client Error: Bad Request for url: https://api.spotify.com/v1/playlists/0xCbdQ7DQr5U7yZ9w8Xowa/tracks",
      "\nDuring handling of the above exception, another exception occurred:\n",
      "\u001b[1;31mSpotifyException\u001b[0m                          Traceback (most recent call last)",
      "\u001b[1;32mc:\\Users\\GERMAN\\OneDrive - UPV\\ASUNTOS INTERNOS\\Spotify\\playlistCreator.ipynb Celda 20\u001b[0m line \u001b[0;36m2\n\u001b[0;32m      <a href='vscode-notebook-cell:/c%3A/Users/GERMAN/OneDrive%20-%20UPV/ASUNTOS%20INTERNOS/Spotify/playlistCreator.ipynb#X25sZmlsZQ%3D%3D?line=0'>1</a>\u001b[0m \u001b[39m# Crear playlist\u001b[39;00m\n\u001b[1;32m----> <a href='vscode-notebook-cell:/c%3A/Users/GERMAN/OneDrive%20-%20UPV/ASUNTOS%20INTERNOS/Spotify/playlistCreator.ipynb#X25sZmlsZQ%3D%3D?line=1'>2</a>\u001b[0m playlistNueva \u001b[39m=\u001b[39m crear_playlist(parametros, sp, playlistOriginal)\n\u001b[0;32m      <a href='vscode-notebook-cell:/c%3A/Users/GERMAN/OneDrive%20-%20UPV/ASUNTOS%20INTERNOS/Spotify/playlistCreator.ipynb#X25sZmlsZQ%3D%3D?line=2'>3</a>\u001b[0m \u001b[39mprint\u001b[39m(\u001b[39m'\u001b[39m\u001b[39mPlaylist creada con éxito!\u001b[39m\u001b[39m'\u001b[39m)\n",
      "File \u001b[1;32mc:\\Users\\GERMAN\\OneDrive - UPV\\ASUNTOS INTERNOS\\Spotify\\playlistCreatorMetods.py:350\u001b[0m, in \u001b[0;36mcrear_playlist\u001b[1;34m(dicParametros, sp, playlistOriginal)\u001b[0m\n\u001b[0;32m    348\u001b[0m     \u001b[39mif\u001b[39;00m \u001b[39mbool\u001b[39m:\n\u001b[0;32m    349\u001b[0m         newTracks\u001b[39m.\u001b[39mappend(item[\u001b[39m'\u001b[39m\u001b[39mtrack\u001b[39m\u001b[39m'\u001b[39m][\u001b[39m'\u001b[39m\u001b[39muri\u001b[39m\u001b[39m'\u001b[39m])\n\u001b[1;32m--> 350\u001b[0m sp\u001b[39m.\u001b[39;49mplaylist_add_items(nueva_playlist[\u001b[39m'\u001b[39;49m\u001b[39mid\u001b[39;49m\u001b[39m'\u001b[39;49m], newTracks)\n\u001b[0;32m    351\u001b[0m \u001b[39mreturn\u001b[39;00m nueva_playlist\n",
      "File \u001b[1;32m~\\AppData\\Local\\Packages\\PythonSoftwareFoundation.Python.3.10_qbz5n2kfra8p0\\LocalCache\\local-packages\\Python310\\site-packages\\spotipy\\client.py:1085\u001b[0m, in \u001b[0;36mSpotify.playlist_add_items\u001b[1;34m(self, playlist_id, items, position)\u001b[0m\n\u001b[0;32m   1083\u001b[0m plid \u001b[39m=\u001b[39m \u001b[39mself\u001b[39m\u001b[39m.\u001b[39m_get_id(\u001b[39m\"\u001b[39m\u001b[39mplaylist\u001b[39m\u001b[39m\"\u001b[39m, playlist_id)\n\u001b[0;32m   1084\u001b[0m ftracks \u001b[39m=\u001b[39m [\u001b[39mself\u001b[39m\u001b[39m.\u001b[39m_get_uri(\u001b[39m\"\u001b[39m\u001b[39mtrack\u001b[39m\u001b[39m\"\u001b[39m, tid) \u001b[39mfor\u001b[39;00m tid \u001b[39min\u001b[39;00m items]\n\u001b[1;32m-> 1085\u001b[0m \u001b[39mreturn\u001b[39;00m \u001b[39mself\u001b[39;49m\u001b[39m.\u001b[39;49m_post(\n\u001b[0;32m   1086\u001b[0m     \u001b[39m\"\u001b[39;49m\u001b[39mplaylists/\u001b[39;49m\u001b[39m%s\u001b[39;49;00m\u001b[39m/tracks\u001b[39;49m\u001b[39m\"\u001b[39;49m \u001b[39m%\u001b[39;49m (plid),\n\u001b[0;32m   1087\u001b[0m     payload\u001b[39m=\u001b[39;49mftracks,\n\u001b[0;32m   1088\u001b[0m     position\u001b[39m=\u001b[39;49mposition,\n\u001b[0;32m   1089\u001b[0m )\n",
      "File \u001b[1;32m~\\AppData\\Local\\Packages\\PythonSoftwareFoundation.Python.3.10_qbz5n2kfra8p0\\LocalCache\\local-packages\\Python310\\site-packages\\spotipy\\client.py:328\u001b[0m, in \u001b[0;36mSpotify._post\u001b[1;34m(self, url, args, payload, **kwargs)\u001b[0m\n\u001b[0;32m    326\u001b[0m \u001b[39mif\u001b[39;00m args:\n\u001b[0;32m    327\u001b[0m     kwargs\u001b[39m.\u001b[39mupdate(args)\n\u001b[1;32m--> 328\u001b[0m \u001b[39mreturn\u001b[39;00m \u001b[39mself\u001b[39;49m\u001b[39m.\u001b[39;49m_internal_call(\u001b[39m\"\u001b[39;49m\u001b[39mPOST\u001b[39;49m\u001b[39m\"\u001b[39;49m, url, payload, kwargs)\n",
      "File \u001b[1;32m~\\AppData\\Local\\Packages\\PythonSoftwareFoundation.Python.3.10_qbz5n2kfra8p0\\LocalCache\\local-packages\\Python310\\site-packages\\spotipy\\client.py:293\u001b[0m, in \u001b[0;36mSpotify._internal_call\u001b[1;34m(self, method, url, payload, params)\u001b[0m\n\u001b[0;32m    286\u001b[0m         reason \u001b[39m=\u001b[39m \u001b[39mNone\u001b[39;00m\n\u001b[0;32m    288\u001b[0m     logger\u001b[39m.\u001b[39merror(\n\u001b[0;32m    289\u001b[0m         \u001b[39m'\u001b[39m\u001b[39mHTTP Error for \u001b[39m\u001b[39m%s\u001b[39;00m\u001b[39m to \u001b[39m\u001b[39m%s\u001b[39;00m\u001b[39m with Params: \u001b[39m\u001b[39m%s\u001b[39;00m\u001b[39m returned \u001b[39m\u001b[39m%s\u001b[39;00m\u001b[39m due to \u001b[39m\u001b[39m%s\u001b[39;00m\u001b[39m'\u001b[39m,\n\u001b[0;32m    290\u001b[0m         method, url, args\u001b[39m.\u001b[39mget(\u001b[39m\"\u001b[39m\u001b[39mparams\u001b[39m\u001b[39m\"\u001b[39m), response\u001b[39m.\u001b[39mstatus_code, msg\n\u001b[0;32m    291\u001b[0m     )\n\u001b[1;32m--> 293\u001b[0m     \u001b[39mraise\u001b[39;00m SpotifyException(\n\u001b[0;32m    294\u001b[0m         response\u001b[39m.\u001b[39mstatus_code,\n\u001b[0;32m    295\u001b[0m         \u001b[39m-\u001b[39m\u001b[39m1\u001b[39m,\n\u001b[0;32m    296\u001b[0m         \u001b[39m\"\u001b[39m\u001b[39m%s\u001b[39;00m\u001b[39m:\u001b[39m\u001b[39m\\n\u001b[39;00m\u001b[39m \u001b[39m\u001b[39m%s\u001b[39;00m\u001b[39m\"\u001b[39m \u001b[39m%\u001b[39m (response\u001b[39m.\u001b[39murl, msg),\n\u001b[0;32m    297\u001b[0m         reason\u001b[39m=\u001b[39mreason,\n\u001b[0;32m    298\u001b[0m         headers\u001b[39m=\u001b[39mresponse\u001b[39m.\u001b[39mheaders,\n\u001b[0;32m    299\u001b[0m     )\n\u001b[0;32m    300\u001b[0m \u001b[39mexcept\u001b[39;00m requests\u001b[39m.\u001b[39mexceptions\u001b[39m.\u001b[39mRetryError \u001b[39mas\u001b[39;00m retry_error:\n\u001b[0;32m    301\u001b[0m     request \u001b[39m=\u001b[39m retry_error\u001b[39m.\u001b[39mrequest\n",
      "\u001b[1;31mSpotifyException\u001b[0m: http status: 400, code:-1 - https://api.spotify.com/v1/playlists/0xCbdQ7DQr5U7yZ9w8Xowa/tracks:\n Error parsing JSON., reason: None"
     ]
    }
   ],
   "source": [
    "# Crear playlist\n",
    "playlistNueva = crear_playlist(parametros, sp, playlistOriginal)\n",
    "print('Playlist creada con éxito!')"
   ]
  }
 ],
 "metadata": {
  "kernelspec": {
   "display_name": "Python 3",
   "language": "python",
   "name": "python3"
  },
  "language_info": {
   "codemirror_mode": {
    "name": "ipython",
    "version": 3
   },
   "file_extension": ".py",
   "mimetype": "text/x-python",
   "name": "python",
   "nbconvert_exporter": "python",
   "pygments_lexer": "ipython3",
   "version": "3.10.11"
  }
 },
 "nbformat": 4,
 "nbformat_minor": 2
}
